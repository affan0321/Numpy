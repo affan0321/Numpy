{
 "cells": [
  {
   "cell_type": "code",
   "execution_count": null,
   "id": "a4876052-f092-40aa-bb84-848a6069a22a",
   "metadata": {},
   "outputs": [],
   "source": [
    "print(\"Hello world\")"
   ]
  }
 ],
 "metadata": {
  "kernelspec": {
   "display_name": "Python 3 (ipykernel)",
   "language": "python",
   "name": "python3"
  }
 },
 "nbformat": 4,
 "nbformat_minor": 5
}
